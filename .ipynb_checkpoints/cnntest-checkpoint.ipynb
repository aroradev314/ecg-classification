{
 "cells": [
  {
   "cell_type": "code",
   "execution_count": 1,
   "id": "d3015c18",
   "metadata": {},
   "outputs": [],
   "source": [
    "# testing out CNN"
   ]
  },
  {
   "cell_type": "code",
   "execution_count": 2,
   "id": "4405685c",
   "metadata": {},
   "outputs": [],
   "source": [
    "import os\n",
    "os.environ['TF_CPP_MIN_LOG_LEVEL'] = '3'"
   ]
  },
  {
   "cell_type": "code",
   "execution_count": 2,
   "id": "c2297bcb",
   "metadata": {},
   "outputs": [
    {
     "name": "stderr",
     "output_type": "stream",
     "text": [
      "2022-12-22 14:11:29.310657: I tensorflow/core/platform/cpu_feature_guard.cc:193] This TensorFlow binary is optimized with oneAPI Deep Neural Network Library (oneDNN) to use the following CPU instructions in performance-critical operations:  SSE4.1 SSE4.2 AVX AVX2 FMA\n",
      "To enable them in other operations, rebuild TensorFlow with the appropriate compiler flags.\n"
     ]
    }
   ],
   "source": [
    "import wfdb\n",
    "import os\n",
    "import pandas as pd\n",
    "import numpy as np\n",
    "import tensorflow as tf\n",
    "import pickle\n",
    "import matplotlib.pyplot as plt\n",
    "import math\n",
    "from sklearn.utils.class_weight import compute_class_weight\n",
    "from scipy.signal import find_peaks\n",
    "from sklearn.preprocessing import StandardScaler\n",
    "from sklearn.decomposition import PCA\n",
    "import pywt\n",
    "import funcs"
   ]
  },
  {
   "cell_type": "code",
   "execution_count": 3,
   "id": "f9d22501",
   "metadata": {},
   "outputs": [],
   "source": [
    "gpu_devices = tf.config.experimental.list_physical_devices('GPU')\n",
    "for device in gpu_devices:\n",
    "    tf.config.experimental.set_memory_growth(device, True)"
   ]
  },
  {
   "cell_type": "code",
   "execution_count": 4,
   "id": "dde15ba6",
   "metadata": {},
   "outputs": [],
   "source": [
    "path = \"pickled/\"\n",
    "trainReadings = funcs.unpickler(path + 'train_readings.pkl')\n",
    "trainDiagnostic = funcs.unpickler(path + 'train_diagnostic.pkl')\n",
    "validateReadings = funcs.unpickler(path + 'validate_readings.pkl')\n",
    "validateDiagnostic = funcs.unpickler(path + 'validate_diagnostic.pkl')\n",
    "testReadings = funcs.unpickler(path + 'test_readings.pkl')\n",
    "testDiagnostic = funcs.unpickler(path + 'test_diagnostic.pkl')\n"
   ]
  },
  {
   "cell_type": "code",
   "execution_count": 5,
   "id": "922c5087",
   "metadata": {},
   "outputs": [],
   "source": [
    "scales = np.linspace(0.1, 1, 5) # scales to use for cwt"
   ]
  },
  {
   "cell_type": "code",
   "execution_count": 6,
   "id": "40beecc7",
   "metadata": {},
   "outputs": [],
   "source": [
    "trainTransform = []\n",
    "testTransform = []\n",
    "\n",
    "for i in trainReadings:\n",
    "    trainTransform.append(pywt.cwt(i, scales, 'mexh')[0].T)\n",
    "for i in testReadings:\n",
    "    testTransform.append(pywt.cwt(i, scales, 'mexh')[0].T)"
   ]
  },
  {
   "cell_type": "code",
   "execution_count": 7,
   "id": "21fee613",
   "metadata": {},
   "outputs": [
    {
     "data": {
      "text/plain": [
       "(10977, 1000, 5)"
      ]
     },
     "execution_count": 7,
     "metadata": {},
     "output_type": "execute_result"
    }
   ],
   "source": [
    "trainTransform = np.array(trainTransform)\n",
    "testTransform = np.array(testTransform)\n",
    "trainTransform.shape"
   ]
  },
  {
   "cell_type": "code",
   "execution_count": 8,
   "id": "467cfe64",
   "metadata": {},
   "outputs": [
    {
     "data": {
      "text/plain": [
       "<matplotlib.image.AxesImage at 0x7efff377e1f0>"
      ]
     },
     "execution_count": 8,
     "metadata": {},
     "output_type": "execute_result"
    },
    {
     "data": {
      "image/png": "[encoded data removed]",
      "text/plain": [
       "<Figure size 640x480 with 1 Axes>"
      ]
     },
     "metadata": {},
     "output_type": "display_data"
    }
   ],
   "source": [
    "plt.imshow(trainTransform[0], extent=[-1, 1, 1, 0.1], cmap='PRGn', aspect='auto',\n",
    "           vmax=abs(trainTransform[0]).max(), vmin=-abs(trainTransform[0]).max())"
   ]
  },
  {
   "cell_type": "code",
   "execution_count": 9,
   "id": "101f8560",
   "metadata": {},
   "outputs": [],
   "source": [
    "from keras.models import Sequential\n",
    "from keras.layers import Dense, Conv2D, Flatten, Conv1D"
   ]
  },
  {
   "cell_type": "code",
   "execution_count": 10,
   "id": "69329c29",
   "metadata": {},
   "outputs": [],
   "source": [
    "inputShape = (32, 1000, len(trainTransform[0][0]))"
   ]
  },
  {
   "cell_type": "code",
   "execution_count": 11,
   "id": "0ddb3fa5",
   "metadata": {},
   "outputs": [
    {
     "data": {
      "text/plain": [
       "(32, 1000, 5)"
      ]
     },
     "execution_count": 11,
     "metadata": {},
     "output_type": "execute_result"
    }
   ],
   "source": [
    "inputShape"
   ]
  },
  {
   "cell_type": "code",
   "execution_count": 12,
   "id": "730fcf1a",
   "metadata": {},
   "outputs": [
    {
     "name": "stderr",
     "output_type": "stream",
     "text": [
      "2022-12-22 14:11:48.969917: I tensorflow/core/platform/cpu_feature_guard.cc:193] This TensorFlow binary is optimized with oneAPI Deep Neural Network Library (oneDNN) to use the following CPU instructions in performance-critical operations:  SSE4.1 SSE4.2 AVX AVX2 FMA\n",
      "To enable them in other operations, rebuild TensorFlow with the appropriate compiler flags.\n"
     ]
    }
   ],
   "source": [
    "#should we try using a rectangular kernel size?\n",
    "model = Sequential()\n",
    "convLayer = Conv1D(\n",
    "    filters=32, kernel_size=10, input_shape=inputShape[1:], data_format=\"channels_last\", activation='relu')\n",
    "model.add(convLayer)\n",
    "#what should the final value in the input be\n",
    "model.add(Flatten())\n",
    "model.add(Dense(1, activation='sigmoid'))"
   ]
  },
  {
   "cell_type": "code",
   "execution_count": 13,
   "id": "fcd81c3b",
   "metadata": {},
   "outputs": [
    {
     "name": "stdout",
     "output_type": "stream",
     "text": [
      "Model: \"sequential\"\n",
      "_________________________________________________________________\n",
      " Layer (type)                Output Shape              Param #   \n",
      "=================================================================\n",
      " conv1d (Conv1D)             (None, 991, 32)           1632      \n",
      "                                                                 \n",
      " flatten (Flatten)           (None, 31712)             0         \n",
      "                                                                 \n",
      " dense (Dense)               (None, 1)                 31713     \n",
      "                                                                 \n",
      "=================================================================\n",
      "Total params: 33,345\n",
      "Trainable params: 33,345\n",
      "Non-trainable params: 0\n",
      "_________________________________________________________________\n"
     ]
    }
   ],
   "source": [
    "model.summary()"
   ]
  },
  {
   "cell_type": "code",
   "execution_count": 14,
   "id": "dba3c832",
   "metadata": {},
   "outputs": [],
   "source": [
    "model.compile(optimizer='adam', loss=tf.keras.losses.BinaryCrossentropy(), metrics=['accuracy'])"
   ]
  },
  {
   "cell_type": "code",
   "execution_count": 15,
   "id": "7c1e3561",
   "metadata": {},
   "outputs": [
    {
     "name": "stdout",
     "output_type": "stream",
     "text": [
      "Epoch 1/10\n",
      "344/344 [==============================] - 2s 5ms/step - loss: 0.2960 - accuracy: 0.9165\n",
      "Epoch 2/10\n",
      "344/344 [==============================] - 2s 5ms/step - loss: 0.2774 - accuracy: 0.9179\n",
      "Epoch 3/10\n",
      "344/344 [==============================] - 2s 5ms/step - loss: 0.2674 - accuracy: 0.9177\n",
      "Epoch 4/10\n",
      "344/344 [==============================] - 2s 5ms/step - loss: 0.2555 - accuracy: 0.9182\n",
      "Epoch 5/10\n",
      "344/344 [==============================] - 2s 5ms/step - loss: 0.2445 - accuracy: 0.9196\n",
      "Epoch 6/10\n",
      "344/344 [==============================] - 2s 5ms/step - loss: 0.2343 - accuracy: 0.9219\n",
      "Epoch 7/10\n",
      "344/344 [==============================] - 2s 5ms/step - loss: 0.2251 - accuracy: 0.9230\n",
      "Epoch 8/10\n",
      "344/344 [==============================] - 2s 5ms/step - loss: 0.2149 - accuracy: 0.9247\n",
      "Epoch 9/10\n",
      "344/344 [==============================] - 2s 5ms/step - loss: 0.2050 - accuracy: 0.9275\n",
      "Epoch 10/10\n",
      "344/344 [==============================] - 2s 4ms/step - loss: 0.2010 - accuracy: 0.9279\n"
     ]
    },
    {
     "data": {
      "text/plain": [
       "<keras.callbacks.History at 0x7effd0408790>"
      ]
     },
     "execution_count": 15,
     "metadata": {},
     "output_type": "execute_result"
    }
   ],
   "source": [
    "model.fit(trainTransform, trainDiagnostic, epochs=10)"
   ]
  },
  {
   "cell_type": "code",
   "execution_count": 20,
   "id": "294e4e2b",
   "metadata": {},
   "outputs": [
    {
     "name": "stdout",
     "output_type": "stream",
     "text": [
      "115/115 [==============================] - 0s 2ms/step - loss: 0.3484 - accuracy: 0.9082\n"
     ]
    },
    {
     "data": {
      "text/plain": [
       "[0.3483632802963257, 0.908196747303009]"
      ]
     },
     "execution_count": 20,
     "metadata": {},
     "output_type": "execute_result"
    }
   ],
   "source": [
    "model.evaluate(testTransform, testDiagnostic)"
   ]
  },
  {
   "cell_type": "code",
   "execution_count": null,
   "id": "50db95b6",
   "metadata": {},
   "outputs": [],
   "source": [
    "#how to regularize cnn?"
   ]
  },
  {
   "cell_type": "code",
   "execution_count": null,
   "id": "f945976e",
   "metadata": {},
   "outputs": [],
   "source": []
  }
 ],
 "metadata": {
  "kernelspec": {
   "display_name": "Tensorflow 2",
   "language": "python",
   "name": "tf2"
  },
  "language_info": {
   "codemirror_mode": {
    "name": "ipython",
    "version": 3
   },
   "file_extension": ".py",
   "mimetype": "text/x-python",
   "name": "python",
   "nbconvert_exporter": "python",
   "pygments_lexer": "ipython3",
   "version": "3.9.15"
  }
 },
 "nbformat": 4,
 "nbformat_minor": 5
}
